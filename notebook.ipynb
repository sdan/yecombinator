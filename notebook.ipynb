{
 "cells": [
  {
   "cell_type": "code",
   "execution_count": 11,
   "metadata": {},
   "outputs": [],
   "source": [
    "import json\n",
    "from vlite2 import VLite2\n",
    "\n",
    "with open('tweets.json') as file:\n",
    "    formatted_tweets = json.load(file)\n",
    "    \n",
    "# Create a VLite2 database\n",
    "vdb = VLite2(vdb_name=\"ye_tweets\")\n",
    "\n",
    "# Ingesting tweets into the VLite2 database\n",
    "for tweet in formatted_tweets:\n",
    "    text = tweet['text']\n",
    "    metadata = tweet.get('metadata', {})\n",
    "    vdb.ingest(text=text, metadata=metadata)\n",
    "\n",
    "# Saving the database\n",
    "vdb.save()"
   ]
  },
  {
   "cell_type": "code",
   "execution_count": 12,
   "metadata": {},
   "outputs": [
    {
     "data": {
      "text/plain": [
       "{'texts': ['FOLLOW GOD',\n",
       "  'Stop texting\\\\n\\\\nGo find God\\\\n\\\\nCome back after you found God',\n",
       "  '\"FOLLOW GOD\"']}"
      ]
     },
     "execution_count": 12,
     "metadata": {},
     "output_type": "execute_result"
    }
   ],
   "source": [
    "vdb.retrieve(\"find god\")"
   ]
  },
  {
   "cell_type": "code",
   "execution_count": null,
   "metadata": {},
   "outputs": [],
   "source": []
  }
 ],
 "metadata": {
  "kernelspec": {
   "display_name": "Python 3",
   "language": "python",
   "name": "python3"
  },
  "language_info": {
   "codemirror_mode": {
    "name": "ipython",
    "version": 3
   },
   "file_extension": ".py",
   "mimetype": "text/x-python",
   "name": "python",
   "nbconvert_exporter": "python",
   "pygments_lexer": "ipython3",
   "version": "3.10.6"
  }
 },
 "nbformat": 4,
 "nbformat_minor": 2
}
